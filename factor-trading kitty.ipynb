{
 "cells": [
  {
   "cell_type": "code",
   "execution_count": 79,
   "metadata": {},
   "outputs": [],
   "source": [
    "import pandas as pd\n",
    "import numpy as np\n",
    "import seaborn as sns\n",
    "from pandasql import sqldf\n",
    "from sklearn import linear_model\n",
    "import statsmodels.api as sm\n",
    "from scipy import stats"
   ]
  },
  {
   "cell_type": "code",
   "execution_count": 80,
   "metadata": {},
   "outputs": [
    {
     "data": {
      "text/html": [
       "<div>\n",
       "<style scoped>\n",
       "    .dataframe tbody tr th:only-of-type {\n",
       "        vertical-align: middle;\n",
       "    }\n",
       "\n",
       "    .dataframe tbody tr th {\n",
       "        vertical-align: top;\n",
       "    }\n",
       "\n",
       "    .dataframe thead th {\n",
       "        text-align: right;\n",
       "    }\n",
       "</style>\n",
       "<table border=\"1\" class=\"dataframe\">\n",
       "  <thead>\n",
       "    <tr style=\"text-align: right;\">\n",
       "      <th></th>\n",
       "      <th>GVKEY</th>\n",
       "      <th>DATADATE</th>\n",
       "      <th>FYEAR</th>\n",
       "      <th>LPERMNO</th>\n",
       "      <th>SIC</th>\n",
       "      <th>AJEX</th>\n",
       "      <th>ACT</th>\n",
       "      <th>AT</th>\n",
       "      <th>CEQ</th>\n",
       "      <th>CHE</th>\n",
       "      <th>...</th>\n",
       "      <th>XINT</th>\n",
       "      <th>XSGA</th>\n",
       "      <th>UTFDOC</th>\n",
       "      <th>CSHO</th>\n",
       "      <th>CONSOL</th>\n",
       "      <th>INDFMT</th>\n",
       "      <th>DATAFMT</th>\n",
       "      <th>POPSRC</th>\n",
       "      <th>CURCD</th>\n",
       "      <th>COSTAT</th>\n",
       "    </tr>\n",
       "  </thead>\n",
       "  <tbody>\n",
       "    <tr>\n",
       "      <th>0</th>\n",
       "      <td>001000</td>\n",
       "      <td>1970-12-31</td>\n",
       "      <td>1970.0</td>\n",
       "      <td>25881.0</td>\n",
       "      <td>3089</td>\n",
       "      <td>1.000000</td>\n",
       "      <td>21.351</td>\n",
       "      <td>33.450</td>\n",
       "      <td>10.544</td>\n",
       "      <td>1.660</td>\n",
       "      <td>...</td>\n",
       "      <td>0.850</td>\n",
       "      <td>9.420</td>\n",
       "      <td>NaN</td>\n",
       "      <td>2.446</td>\n",
       "      <td>C</td>\n",
       "      <td>INDL</td>\n",
       "      <td>STD</td>\n",
       "      <td>D</td>\n",
       "      <td>USD</td>\n",
       "      <td>I</td>\n",
       "    </tr>\n",
       "    <tr>\n",
       "      <th>1</th>\n",
       "      <td>001000</td>\n",
       "      <td>1971-12-31</td>\n",
       "      <td>1971.0</td>\n",
       "      <td>25881.0</td>\n",
       "      <td>3089</td>\n",
       "      <td>1.000000</td>\n",
       "      <td>19.688</td>\n",
       "      <td>29.330</td>\n",
       "      <td>8.381</td>\n",
       "      <td>2.557</td>\n",
       "      <td>...</td>\n",
       "      <td>1.117</td>\n",
       "      <td>10.548</td>\n",
       "      <td>NaN</td>\n",
       "      <td>2.995</td>\n",
       "      <td>C</td>\n",
       "      <td>INDL</td>\n",
       "      <td>STD</td>\n",
       "      <td>D</td>\n",
       "      <td>USD</td>\n",
       "      <td>I</td>\n",
       "    </tr>\n",
       "    <tr>\n",
       "      <th>2</th>\n",
       "      <td>001000</td>\n",
       "      <td>1972-12-31</td>\n",
       "      <td>1972.0</td>\n",
       "      <td>25881.0</td>\n",
       "      <td>3089</td>\n",
       "      <td>1.000000</td>\n",
       "      <td>11.326</td>\n",
       "      <td>19.907</td>\n",
       "      <td>7.021</td>\n",
       "      <td>2.027</td>\n",
       "      <td>...</td>\n",
       "      <td>0.784</td>\n",
       "      <td>7.551</td>\n",
       "      <td>NaN</td>\n",
       "      <td>2.902</td>\n",
       "      <td>C</td>\n",
       "      <td>INDL</td>\n",
       "      <td>STD</td>\n",
       "      <td>D</td>\n",
       "      <td>USD</td>\n",
       "      <td>I</td>\n",
       "    </tr>\n",
       "    <tr>\n",
       "      <th>3</th>\n",
       "      <td>001000</td>\n",
       "      <td>1973-12-31</td>\n",
       "      <td>1973.0</td>\n",
       "      <td>25881.0</td>\n",
       "      <td>3089</td>\n",
       "      <td>1.000000</td>\n",
       "      <td>12.969</td>\n",
       "      <td>21.771</td>\n",
       "      <td>8.567</td>\n",
       "      <td>1.357</td>\n",
       "      <td>...</td>\n",
       "      <td>0.705</td>\n",
       "      <td>8.532</td>\n",
       "      <td>NaN</td>\n",
       "      <td>2.840</td>\n",
       "      <td>C</td>\n",
       "      <td>INDL</td>\n",
       "      <td>STD</td>\n",
       "      <td>D</td>\n",
       "      <td>USD</td>\n",
       "      <td>I</td>\n",
       "    </tr>\n",
       "    <tr>\n",
       "      <th>4</th>\n",
       "      <td>001000</td>\n",
       "      <td>1974-12-31</td>\n",
       "      <td>1974.0</td>\n",
       "      <td>25881.0</td>\n",
       "      <td>3089</td>\n",
       "      <td>1.000000</td>\n",
       "      <td>19.473</td>\n",
       "      <td>25.638</td>\n",
       "      <td>9.843</td>\n",
       "      <td>1.338</td>\n",
       "      <td>...</td>\n",
       "      <td>0.817</td>\n",
       "      <td>8.859</td>\n",
       "      <td>NaN</td>\n",
       "      <td>2.150</td>\n",
       "      <td>C</td>\n",
       "      <td>INDL</td>\n",
       "      <td>STD</td>\n",
       "      <td>D</td>\n",
       "      <td>USD</td>\n",
       "      <td>I</td>\n",
       "    </tr>\n",
       "    <tr>\n",
       "      <th>...</th>\n",
       "      <td>...</td>\n",
       "      <td>...</td>\n",
       "      <td>...</td>\n",
       "      <td>...</td>\n",
       "      <td>...</td>\n",
       "      <td>...</td>\n",
       "      <td>...</td>\n",
       "      <td>...</td>\n",
       "      <td>...</td>\n",
       "      <td>...</td>\n",
       "      <td>...</td>\n",
       "      <td>...</td>\n",
       "      <td>...</td>\n",
       "      <td>...</td>\n",
       "      <td>...</td>\n",
       "      <td>...</td>\n",
       "      <td>...</td>\n",
       "      <td>...</td>\n",
       "      <td>...</td>\n",
       "      <td>...</td>\n",
       "      <td>...</td>\n",
       "    </tr>\n",
       "    <tr>\n",
       "      <th>350176</th>\n",
       "      <td>347007</td>\n",
       "      <td>2021-12-31</td>\n",
       "      <td>2021.0</td>\n",
       "      <td>15533.0</td>\n",
       "      <td>2836</td>\n",
       "      <td>1.000000</td>\n",
       "      <td>334.347</td>\n",
       "      <td>468.910</td>\n",
       "      <td>-242.173</td>\n",
       "      <td>317.116</td>\n",
       "      <td>...</td>\n",
       "      <td>14.849</td>\n",
       "      <td>NaN</td>\n",
       "      <td>NaN</td>\n",
       "      <td>397.830</td>\n",
       "      <td>C</td>\n",
       "      <td>INDL</td>\n",
       "      <td>STD</td>\n",
       "      <td>D</td>\n",
       "      <td>USD</td>\n",
       "      <td>A</td>\n",
       "    </tr>\n",
       "    <tr>\n",
       "      <th>350177</th>\n",
       "      <td>348892</td>\n",
       "      <td>2021-12-31</td>\n",
       "      <td>2021.0</td>\n",
       "      <td>20846.0</td>\n",
       "      <td>3550</td>\n",
       "      <td>0.100000</td>\n",
       "      <td>22.112</td>\n",
       "      <td>40.654</td>\n",
       "      <td>37.622</td>\n",
       "      <td>19.330</td>\n",
       "      <td>...</td>\n",
       "      <td>0.020</td>\n",
       "      <td>16.352</td>\n",
       "      <td>NaN</td>\n",
       "      <td>12.577</td>\n",
       "      <td>C</td>\n",
       "      <td>INDL</td>\n",
       "      <td>STD</td>\n",
       "      <td>D</td>\n",
       "      <td>USD</td>\n",
       "      <td>A</td>\n",
       "    </tr>\n",
       "    <tr>\n",
       "      <th>350178</th>\n",
       "      <td>349972</td>\n",
       "      <td>2021-12-31</td>\n",
       "      <td>2021.0</td>\n",
       "      <td>15642.0</td>\n",
       "      <td>2836</td>\n",
       "      <td>1.000000</td>\n",
       "      <td>40.387</td>\n",
       "      <td>40.577</td>\n",
       "      <td>35.900</td>\n",
       "      <td>39.132</td>\n",
       "      <td>...</td>\n",
       "      <td>0.000</td>\n",
       "      <td>7.728</td>\n",
       "      <td>NaN</td>\n",
       "      <td>8.259</td>\n",
       "      <td>C</td>\n",
       "      <td>INDL</td>\n",
       "      <td>STD</td>\n",
       "      <td>D</td>\n",
       "      <td>USD</td>\n",
       "      <td>A</td>\n",
       "    </tr>\n",
       "    <tr>\n",
       "      <th>350179</th>\n",
       "      <td>350681</td>\n",
       "      <td>2021-12-31</td>\n",
       "      <td>2021.0</td>\n",
       "      <td>22205.0</td>\n",
       "      <td>7374</td>\n",
       "      <td>1.000000</td>\n",
       "      <td>10243.231</td>\n",
       "      <td>10595.813</td>\n",
       "      <td>595.890</td>\n",
       "      <td>377.113</td>\n",
       "      <td>...</td>\n",
       "      <td>21.513</td>\n",
       "      <td>65.598</td>\n",
       "      <td>NaN</td>\n",
       "      <td>933.361</td>\n",
       "      <td>C</td>\n",
       "      <td>INDL</td>\n",
       "      <td>STD</td>\n",
       "      <td>D</td>\n",
       "      <td>USD</td>\n",
       "      <td>I</td>\n",
       "    </tr>\n",
       "    <tr>\n",
       "      <th>350180</th>\n",
       "      <td>351038</td>\n",
       "      <td>2021-12-31</td>\n",
       "      <td>2021.0</td>\n",
       "      <td>16161.0</td>\n",
       "      <td>2834</td>\n",
       "      <td>0.006667</td>\n",
       "      <td>8.498</td>\n",
       "      <td>9.357</td>\n",
       "      <td>0.657</td>\n",
       "      <td>7.483</td>\n",
       "      <td>...</td>\n",
       "      <td>1.366</td>\n",
       "      <td>5.959</td>\n",
       "      <td>NaN</td>\n",
       "      <td>8.387</td>\n",
       "      <td>C</td>\n",
       "      <td>INDL</td>\n",
       "      <td>STD</td>\n",
       "      <td>D</td>\n",
       "      <td>USD</td>\n",
       "      <td>A</td>\n",
       "    </tr>\n",
       "  </tbody>\n",
       "</table>\n",
       "<p>350181 rows × 30 columns</p>\n",
       "</div>"
      ],
      "text/plain": [
       "         GVKEY   DATADATE   FYEAR  LPERMNO   SIC      AJEX        ACT  \\\n",
       "0       001000 1970-12-31  1970.0  25881.0  3089  1.000000     21.351   \n",
       "1       001000 1971-12-31  1971.0  25881.0  3089  1.000000     19.688   \n",
       "2       001000 1972-12-31  1972.0  25881.0  3089  1.000000     11.326   \n",
       "3       001000 1973-12-31  1973.0  25881.0  3089  1.000000     12.969   \n",
       "4       001000 1974-12-31  1974.0  25881.0  3089  1.000000     19.473   \n",
       "...        ...        ...     ...      ...   ...       ...        ...   \n",
       "350176  347007 2021-12-31  2021.0  15533.0  2836  1.000000    334.347   \n",
       "350177  348892 2021-12-31  2021.0  20846.0  3550  0.100000     22.112   \n",
       "350178  349972 2021-12-31  2021.0  15642.0  2836  1.000000     40.387   \n",
       "350179  350681 2021-12-31  2021.0  22205.0  7374  1.000000  10243.231   \n",
       "350180  351038 2021-12-31  2021.0  16161.0  2834  0.006667      8.498   \n",
       "\n",
       "               AT      CEQ      CHE  ...    XINT    XSGA  UTFDOC     CSHO  \\\n",
       "0          33.450   10.544    1.660  ...   0.850   9.420     NaN    2.446   \n",
       "1          29.330    8.381    2.557  ...   1.117  10.548     NaN    2.995   \n",
       "2          19.907    7.021    2.027  ...   0.784   7.551     NaN    2.902   \n",
       "3          21.771    8.567    1.357  ...   0.705   8.532     NaN    2.840   \n",
       "4          25.638    9.843    1.338  ...   0.817   8.859     NaN    2.150   \n",
       "...           ...      ...      ...  ...     ...     ...     ...      ...   \n",
       "350176    468.910 -242.173  317.116  ...  14.849     NaN     NaN  397.830   \n",
       "350177     40.654   37.622   19.330  ...   0.020  16.352     NaN   12.577   \n",
       "350178     40.577   35.900   39.132  ...   0.000   7.728     NaN    8.259   \n",
       "350179  10595.813  595.890  377.113  ...  21.513  65.598     NaN  933.361   \n",
       "350180      9.357    0.657    7.483  ...   1.366   5.959     NaN    8.387   \n",
       "\n",
       "        CONSOL  INDFMT  DATAFMT  POPSRC  CURCD  COSTAT  \n",
       "0            C    INDL      STD       D    USD       I  \n",
       "1            C    INDL      STD       D    USD       I  \n",
       "2            C    INDL      STD       D    USD       I  \n",
       "3            C    INDL      STD       D    USD       I  \n",
       "4            C    INDL      STD       D    USD       I  \n",
       "...        ...     ...      ...     ...    ...     ...  \n",
       "350176       C    INDL      STD       D    USD       A  \n",
       "350177       C    INDL      STD       D    USD       A  \n",
       "350178       C    INDL      STD       D    USD       A  \n",
       "350179       C    INDL      STD       D    USD       I  \n",
       "350180       C    INDL      STD       D    USD       A  \n",
       "\n",
       "[350181 rows x 30 columns]"
      ]
     },
     "execution_count": 80,
     "metadata": {},
     "output_type": "execute_result"
    }
   ],
   "source": [
    "test = pd.read_sas('3v3updated.sas7bdat', encoding='latin-1')\n",
    "test"
   ]
  },
  {
   "cell_type": "markdown",
   "metadata": {},
   "source": [
    "### Noa and **dNoa**, (changes in) net operating assets\n",
    "We measure net operating assets as operating assets minus operating liabilities. Operating assets are total assets (Compustat annual item AT) minus cash and short-term investment (item CHE). Operating liabilities are total assets minus debt included in current liabilities (item DLC, zero if missing), minus long-term debt (item DLTT, zero if missing), minus minority interests (item MIB, zero if missing), minus preferred stocks (item PSTK, zero if missing), and minus common equity (item CEQ). Noa is net operating assets scalded by 1-year-lagged total assets. Changes in net operating assets, dNoa, is the annual change in net operating assets scaled by 1-year-lagged total assets. At the end of June of each year t, we sort stocks into deciles based on Noa, and separately, on dNOA, for the fiscal year ending in calendar year t −1. Monthly decile returns are computed from July of year t to June of t +1, and the deciles are rebalanced in June of t +1"
   ]
  },
  {
   "cell_type": "code",
   "execution_count": 81,
   "metadata": {},
   "outputs": [],
   "source": [
    "def fill_zero(var):\n",
    "    temp = test[var].isna().sum()\n",
    "    test[var].fillna(0, inplace=True)\n",
    "    print(\"NAN values for \" + str(var) + \": \" + str(temp))\n",
    "    temp = test[var].isna().sum()\n",
    "    print(\"NAN values for \" + str(var) + \" filled: \" + str(temp))"
   ]
  },
  {
   "cell_type": "code",
   "execution_count": 82,
   "metadata": {},
   "outputs": [
    {
     "name": "stdout",
     "output_type": "stream",
     "text": [
      "NAN values for DLC: 29818\n",
      "NAN values for DLC filled: 0\n",
      "NAN values for DLTT: 25976\n",
      "NAN values for DLTT filled: 0\n",
      "NAN values for MIB: 41252\n",
      "NAN values for MIB filled: 0\n",
      "NAN values for PSTK: 29876\n",
      "NAN values for PSTK filled: 0\n"
     ]
    }
   ],
   "source": [
    "fill_zero(\"DLC\")\n",
    "fill_zero(\"DLTT\")\n",
    "fill_zero(\"MIB\")\n",
    "fill_zero(\"PSTK\")"
   ]
  },
  {
   "cell_type": "code",
   "execution_count": 83,
   "metadata": {},
   "outputs": [
    {
     "data": {
      "text/plain": [
       "0          0.000000\n",
       "1         -0.095067\n",
       "2         -0.238834\n",
       "3          0.111318\n",
       "4          0.101465\n",
       "            ...    \n",
       "350176     0.320635\n",
       "350177    -0.144318\n",
       "350178    -0.535396\n",
       "350179    21.020208\n",
       "350180    -0.080853\n",
       "Name: dNoa, Length: 350181, dtype: float64"
      ]
     },
     "execution_count": 83,
     "metadata": {},
     "output_type": "execute_result"
    }
   ],
   "source": [
    "operating_assets = test[\"AT\"] - test[\"CHE\"]\n",
    "operating_liabilities = test[\"AT\"] - test[\"DLC\"] - test[\"DLTT\"] - test[\"MIB\"] - test[\"PSTK\"] - test[\"CEQ\"]\n",
    "\n",
    "Noa = operating_assets - operating_liabilities\n",
    "\n",
    "lagged_total_assets = test[\"AT\"].shift(1)  # 1-year-lagged total assets\n",
    "dNoa = (Noa - Noa.shift(1)) / lagged_total_assets\n",
    "\n",
    "test[\"dNoa\"] = dNoa\n",
    "test[\"dNoa\"].fillna(0, inplace=True)\n",
    "\n",
    "test[\"dNoa\"]"
   ]
  },
  {
   "cell_type": "code",
   "execution_count": 84,
   "metadata": {},
   "outputs": [
    {
     "name": "stderr",
     "output_type": "stream",
     "text": [
      "C:\\Users\\kitty\\AppData\\Local\\Packages\\PythonSoftwareFoundation.Python.3.11_qbz5n2kfra8p0\\LocalCache\\local-packages\\Python311\\site-packages\\numpy\\lib\\function_base.py:4655: RuntimeWarning: invalid value encountered in subtract\n",
      "  diff_b_a = subtract(b, a)\n"
     ]
    },
    {
     "data": {
      "text/plain": [
       "0.25000356959278086"
      ]
     },
     "execution_count": 84,
     "metadata": {},
     "output_type": "execute_result"
    }
   ],
   "source": [
    "deciles_dNoa = pd.qcut(test[\"dNoa\"], 10, labels=False, duplicates=\"drop\")\n",
    "nanvalues = deciles_dNoa.isna().sum()\n",
    "allvalues = deciles_dNoa.count()\n",
    "\n",
    "difference = nanvalues/allvalues\n",
    "difference"
   ]
  },
  {
   "cell_type": "code",
   "execution_count": 85,
   "metadata": {},
   "outputs": [],
   "source": [
    "# monthly_returns = pd.DataFrame()  # Assuming you have monthly returns data\n",
    "# monthly_returns[\"Date\"] = pd.date_range(start=\"2023-07-01\", periods=12, freq=\"M\")\n",
    "# monthly_returns[\"Decile_dNoa\"] = deciles_dNoa.values\n",
    "# monthly_returns[\"Monthly_Return\"] = 0.05"
   ]
  },
  {
   "cell_type": "code",
   "execution_count": 86,
   "metadata": {},
   "outputs": [],
   "source": [
    "# test[\"dNoa\"] = (test[\"AT\"] - test[\"CHE\"]) - (test[\"AT\"] - test[\"DLC\"] - test[\"DLTT\"] - test[\"MIB\"] - test[\"PSTK\"] - test[\"CEQ\"])\n",
    "# test[\"dNoa\"]"
   ]
  },
  {
   "cell_type": "code",
   "execution_count": 87,
   "metadata": {},
   "outputs": [],
   "source": [
    "# test['dNoa_decile'] = pd.qcut(test['dNoa'], 10, labels=False)\n",
    "# test['dNoa_decile']"
   ]
  },
  {
   "cell_type": "markdown",
   "metadata": {},
   "source": [
    "### **Nsi**, net stock issues\n",
    "At the end of June of year t, we measure net stock issues, Nsi, as the natural log of the ratio of the split-adjusted shares outstanding at the fiscal year ending in calendar year t −1 to the split-adjusted shares outstanding at the fiscal year ending in t −2. The split-adjusted shares outstanding is shares outstanding (Compustat annual item CSHO) times the adjustment factor (item AJEX). At the end of June of each year t, we sort stocks with negative Nsi into two portfolios (1 and 2), stocks with zero Nsi into 1 portfolio (3), and stocks with positive Nsi into seven portfolios (4 to 10). Monthly decile returns are from July of year t to June of t +1, and the deciles are rebalanced in June of t +1."
   ]
  },
  {
   "cell_type": "code",
   "execution_count": 88,
   "metadata": {},
   "outputs": [
    {
     "name": "stderr",
     "output_type": "stream",
     "text": [
      "C:\\Users\\kitty\\AppData\\Local\\Packages\\PythonSoftwareFoundation.Python.3.11_qbz5n2kfra8p0\\LocalCache\\local-packages\\Python311\\site-packages\\pandas\\core\\arraylike.py:396: RuntimeWarning: divide by zero encountered in log\n",
      "  result = getattr(ufunc, method)(*inputs, **kwargs)\n"
     ]
    },
    {
     "data": {
      "text/plain": [
       "0         0.000000\n",
       "1         0.202490\n",
       "2        -0.031544\n",
       "3        -0.021596\n",
       "4        -0.278336\n",
       "            ...   \n",
       "350176    2.898017\n",
       "350177   -5.756740\n",
       "350178    1.882019\n",
       "350179    4.727489\n",
       "350180   -9.722744\n",
       "Name: Nsi, Length: 350181, dtype: float64"
      ]
     },
     "execution_count": 88,
     "metadata": {},
     "output_type": "execute_result"
    }
   ],
   "source": [
    "test[\"CSHO_t_minus_1_adjusted\"] = test[\"CSHO\"] * test[\"AJEX\"]\n",
    "\n",
    "test_shifted = test.shift(periods=1)\n",
    "test[\"CSHO_t_minus_2_adjusted\"] = test_shifted[\"CSHO\"] * test_shifted[\"AJEX\"]\n",
    "\n",
    "test[\"Nsi\"] = np.log(test[\"CSHO_t_minus_1_adjusted\"] / test[\"CSHO_t_minus_2_adjusted\"])\n",
    "test[\"Nsi\"].fillna(0, inplace=True)\n",
    "test[\"Nsi\"]"
   ]
  },
  {
   "cell_type": "code",
   "execution_count": 89,
   "metadata": {},
   "outputs": [
    {
     "data": {
      "text/plain": [
       "0          3\n",
       "1         10\n",
       "2          1\n",
       "3          1\n",
       "4          1\n",
       "          ..\n",
       "350176    10\n",
       "350177     1\n",
       "350178    10\n",
       "350179    10\n",
       "350180     1\n",
       "Name: Nsi_f, Length: 350181, dtype: int32"
      ]
     },
     "execution_count": 89,
     "metadata": {},
     "output_type": "execute_result"
    }
   ],
   "source": [
    "test[\"Nsi_f\"] = np.where(test[\"Nsi\"] < 0, np.where(test[\"Nsi\"] < test[\"Nsi\"].quantile(0.5), 1, 2),\n",
    "                             np.where(test[\"Nsi\"] == 0, 3,\n",
    "                                      np.where(test[\"Nsi\"] <= test[\"Nsi\"].quantile(0.1), 4,\n",
    "                                               np.where(test[\"Nsi\"] <= test[\"Nsi\"].quantile(0.2), 5,\n",
    "                                                        np.where(test[\"Nsi\"] <= test[\"Nsi\"].quantile(0.3), 6,\n",
    "                                                                 np.where(test[\"Nsi\"] <= test[\"Nsi\"].quantile(0.4), 7,\n",
    "                                                                          np.where(test[\"Nsi\"] <= test[\"Nsi\"].quantile(0.5), 8,\n",
    "                                                                                   np.where(test[\"Nsi\"] <= test[\"Nsi\"].quantile(0.6), 9, 10))))))))\n",
    "test[\"Nsi_f\"]"
   ]
  },
  {
   "cell_type": "markdown",
   "metadata": {},
   "source": [
    "### dNco, **dNca**, and dNcl, changes in net noncurrent operating assets, in noncurrent operating assets, and in noncurrent operating liabilities.\n",
    "dNco is the change in net noncurrent operating assets. Net noncurrent operating assets are noncurrent operating assets (Nca) minus noncurrent operating liabilities (Ncl), with Nca = total assets (Compustat annual item AT) − current assets (item ACT) − long-term investments (item IVAO), and Ncl = total liabilities (item LT) − current liabilities (item LCT) − long-term debt (item DLTT). dNca is the change in noncurrent operating assets, and dNcl is the change in noncurrent operating liabilities. Missing changes in long-term investments and long-term debt are set to zero. At the end of June of each year t, we sort stocks into deciles based, on dNco, dNca, and dNcl for the fiscal year ending in calendar year t −1, all scaled by total assets for the fiscal year ending in calendar year t −2. Monthly decile returns are from July of year t to June of t +1, and the deciles are rebalanced in June of t +1.\n"
   ]
  },
  {
   "cell_type": "code",
   "execution_count": 90,
   "metadata": {},
   "outputs": [
    {
     "name": "stdout",
     "output_type": "stream",
     "text": [
      "NAN values for IVAO: 74024\n",
      "NAN values for IVAO filled: 0\n"
     ]
    }
   ],
   "source": [
    "fill_zero(\"IVAO\")"
   ]
  },
  {
   "cell_type": "code",
   "execution_count": 91,
   "metadata": {},
   "outputs": [
    {
     "data": {
      "text/plain": [
       "0          10.614\n",
       "1           8.367\n",
       "2           7.434\n",
       "3           7.786\n",
       "4           5.912\n",
       "           ...   \n",
       "350176    134.563\n",
       "350177     17.187\n",
       "350178      0.190\n",
       "350179    352.582\n",
       "350180      0.859\n",
       "Name: Nca, Length: 350181, dtype: float64"
      ]
     },
     "execution_count": 91,
     "metadata": {},
     "output_type": "execute_result"
    }
   ],
   "source": [
    "test[\"Nca\"] = test[\"AT\"] - test[\"ACT\"] - test[\"IVAO\"]\n",
    "test[\"Nca\"]"
   ]
  },
  {
   "cell_type": "code",
   "execution_count": 92,
   "metadata": {},
   "outputs": [
    {
     "data": {
      "text/plain": [
       "0           0.000\n",
       "1          -2.247\n",
       "2          -0.933\n",
       "3           0.352\n",
       "4          -1.874\n",
       "           ...   \n",
       "350176     92.563\n",
       "350177   -117.376\n",
       "350178    -16.997\n",
       "350179    352.392\n",
       "350180   -351.723\n",
       "Name: dNca, Length: 350181, dtype: float64"
      ]
     },
     "execution_count": 92,
     "metadata": {},
     "output_type": "execute_result"
    }
   ],
   "source": [
    "#Need to calculate dNca\n",
    "test[\"dNca\"] = test[\"Nca\"].diff()\n",
    "test[\"dNca\"].fillna(0, inplace=True)\n",
    "test[\"dNca\"]"
   ]
  },
  {
   "cell_type": "markdown",
   "metadata": {},
   "source": [
    "### dFin, dSti, dLti, **dFnl**, and dBe, changes in net financial assets, in short-term investments, in long-term investments, in financial liabilities, and in book equity. \n",
    "dFin is the change in net financial assets. Net financial assets are financial assets (Fna) minus financial liabilities (Fnl), with Fna = short-term investments (Compustat annual item IVST) + long-term investments (item IVAO), and Fnl = long-term debt (item DLTT) + debt in current liabilities (item DLC) + preferred stock (item PSTK). dSti is the change in short-term investments, dLti is the change in long-term investments, and dFnl is the change in financial liabilities. dBe is the change in book equity (item CEQ). Missing changes in debt in current liabilities, long-term investments, long-term debt, short-term investments, and preferred stocks are set to zero (at least 1 change must be non-missing). When constructing dSti (dLti), we exclude firms that do not have short-term (long-term) investments in the past two fiscal years. At the end of June of each year t, we sort stocks into deciles based, separately, on dFin, dSti, dLti, dFnl, and dBe for the fiscal year ending in calendar year t −1, all scaled by total assets (item AT) for the fiscal year ending in calendar year t −2. Monthly decile returns are calculated from July of year t to June of t +1, and the deciles are rebalanced in June of t +1. For sufficient data coverage, the dSti portfolios start in July 1971."
   ]
  },
  {
   "cell_type": "code",
   "execution_count": 93,
   "metadata": {},
   "outputs": [
    {
     "name": "stdout",
     "output_type": "stream",
     "text": [
      "NAN values for DLTT: 0\n",
      "NAN values for DLTT filled: 0\n",
      "NAN values for DLC: 0\n",
      "NAN values for DLC filled: 0\n",
      "NAN values for PSTK: 0\n",
      "NAN values for PSTK filled: 0\n"
     ]
    }
   ],
   "source": [
    "fill_zero(\"DLTT\")\n",
    "fill_zero(\"DLC\")\n",
    "fill_zero(\"PSTK\")"
   ]
  },
  {
   "cell_type": "code",
   "execution_count": 94,
   "metadata": {},
   "outputs": [
    {
     "data": {
      "text/plain": [
       "0          13.295\n",
       "1          13.175\n",
       "2           7.000\n",
       "3           7.000\n",
       "4           7.914\n",
       "           ...   \n",
       "350176    645.664\n",
       "350177      0.411\n",
       "350178      0.169\n",
       "350179    631.097\n",
       "350180      0.000\n",
       "Name: Fnl, Length: 350181, dtype: float64"
      ]
     },
     "execution_count": 94,
     "metadata": {},
     "output_type": "execute_result"
    }
   ],
   "source": [
    "test[\"Fnl\"] = test[\"DLTT\"] + test[\"DLC\"] + test[\"PSTK\"]\n",
    "test[\"Fnl\"]"
   ]
  },
  {
   "cell_type": "code",
   "execution_count": 95,
   "metadata": {},
   "outputs": [
    {
     "data": {
      "text/plain": [
       "0           0.000\n",
       "1          -0.120\n",
       "2          -6.175\n",
       "3           0.000\n",
       "4           0.914\n",
       "           ...   \n",
       "350176    620.664\n",
       "350177   -645.253\n",
       "350178     -0.242\n",
       "350179    630.928\n",
       "350180   -631.097\n",
       "Name: dFnl, Length: 350181, dtype: float64"
      ]
     },
     "execution_count": 95,
     "metadata": {},
     "output_type": "execute_result"
    }
   ],
   "source": [
    "test[\"dFnl\"] = test[\"Fnl\"].diff()\n",
    "test[\"dFnl\"].fillna(0, inplace=True)\n",
    "test[\"dFnl\"]"
   ]
  },
  {
   "cell_type": "code",
   "execution_count": 96,
   "metadata": {},
   "outputs": [],
   "source": [
    "# dlc = test['DLC'].isna().sum()\n",
    "# test['DLC'].fillna(0, inplace=True)\n",
    "# print(\"NAN values: \" + str(dlc))\n",
    "# dlc = test['DLC'].isna().sum()\n",
    "# print(\"NAN values: \" + str(dlc))"
   ]
  },
  {
   "cell_type": "markdown",
   "metadata": {},
   "source": [
    "Credit default risk / credit risk premium"
   ]
  },
  {
   "cell_type": "code",
   "execution_count": 97,
   "metadata": {},
   "outputs": [
    {
     "name": "stdout",
     "output_type": "stream",
     "text": [
      "        Total_Assets  Current_Liabilities  Long_Term_Debt  Total_Liabilities  \\\n",
      "0             33.450                0.763           0.917             22.906   \n",
      "1             29.330                1.195          10.318             20.948   \n",
      "2             19.907                1.172           7.000             12.886   \n",
      "3             21.771                0.826           7.000             13.204   \n",
      "4             25.638                2.624           7.000             15.381   \n",
      "...              ...                  ...             ...                ...   \n",
      "350176       468.910               55.330         343.417            712.823   \n",
      "350177        40.654                2.239           0.246              3.032   \n",
      "350178        40.577                1.870           0.073              4.677   \n",
      "350179     10595.813               95.997           7.499           9999.222   \n",
      "350180         9.357                7.777           0.000              8.700   \n",
      "\n",
      "        Preferred_Stock  Interest_Expense  Cash_Short_Term_Investments  \\\n",
      "0                 0.000             0.850                        1.660   \n",
      "1                 0.000             1.117                        2.557   \n",
      "2                 0.000             0.784                        2.027   \n",
      "3                 0.000             0.705                        1.357   \n",
      "4                 0.414             0.817                        1.338   \n",
      "...                 ...               ...                          ...   \n",
      "350176            0.000            14.849                      317.116   \n",
      "350177            0.000             0.020                       19.330   \n",
      "350178            0.000             0.000                       39.132   \n",
      "350179            0.000            21.513                      377.113   \n",
      "350180            0.000             1.366                        7.483   \n",
      "\n",
      "        Net_Income  Inventory  Total_Equity  Debt_Equity_Ratio  Debt_Ratio  \\\n",
      "0            0.558     10.199        10.544           2.172420    0.684783   \n",
      "1           -2.318      8.187         8.381           2.499463    0.714218   \n",
      "2            2.225      4.743         7.021           1.835351    0.647310   \n",
      "3            1.863      5.683         8.567           1.541263    0.606495   \n",
      "4            2.240      7.177         9.843           1.562633    0.599930   \n",
      "...            ...        ...           ...                ...         ...   \n",
      "350176    -346.790      0.000      -242.173          -2.943445    1.520170   \n",
      "350177     -18.022      0.000        37.622           0.080591    0.074581   \n",
      "350178      -7.711      0.000        35.900           0.130279    0.115262   \n",
      "350179      85.469      7.341       595.890          16.780315    0.943696   \n",
      "350180     -21.463      0.000         0.657          13.242009    0.929785   \n",
      "\n",
      "        Current_Ratio  Quick_Ratio  Interest_Coverage_Ratio  Return_On_Assets  \\\n",
      "0            0.022810    -0.282093                 0.656471          0.016682   \n",
      "1            0.040743    -0.238391                -2.075201         -0.079032   \n",
      "2            0.058874    -0.179384                 2.838010          0.111770   \n",
      "3            0.037940    -0.223095                 2.642553          0.085573   \n",
      "4            0.102348    -0.177588                 2.741738          0.087370   \n",
      "...               ...          ...                      ...               ...   \n",
      "350176       0.117997     0.117997               -23.354435         -0.739566   \n",
      "350177       0.055075     0.055075              -901.100000         -0.443302   \n",
      "350178       0.046085     0.046085                     -inf         -0.190034   \n",
      "350179       0.009060     0.008367                 3.972900          0.008066   \n",
      "350180       0.831142     0.831142               -15.712299         -2.293791   \n",
      "\n",
      "        Return_On_Equity  Asset_Turnover_Ratio  Inventory_Turnover_Ratio  \n",
      "0               0.052921              0.016682                  0.054711  \n",
      "1              -0.276578             -0.079032                 -0.283132  \n",
      "2               0.316906              0.111770                  0.469112  \n",
      "3               0.217462              0.085573                  0.327820  \n",
      "4               0.227573              0.087370                  0.312108  \n",
      "...                  ...                   ...                       ...  \n",
      "350176          1.431993             -0.739566                      -inf  \n",
      "350177         -0.479028             -0.443302                      -inf  \n",
      "350178         -0.214791             -0.190034                      -inf  \n",
      "350179          0.143431              0.008066                 11.642692  \n",
      "350180        -32.668189             -2.293791                      -inf  \n",
      "\n",
      "[350181 rows x 19 columns]\n"
     ]
    }
   ],
   "source": [
    "import pandas as pd\n",
    "\n",
    "def calculate_credit_metrics(compustat_data):\n",
    "    credit_metrics_df = pd.DataFrame()\n",
    "\n",
    "    # Rename \n",
    "    credit_metrics_df[\"Total_Assets\"] = compustat_data[\"AT\"]\n",
    "    credit_metrics_df[\"Current_Liabilities\"] = compustat_data[\"LCO\"]\n",
    "    credit_metrics_df[\"Long_Term_Debt\"] = compustat_data[\"DLTT\"]\n",
    "    credit_metrics_df[\"Total_Liabilities\"] = compustat_data[\"LT\"]\n",
    "    credit_metrics_df[\"Preferred_Stock\"] = compustat_data[\"PSTK\"]\n",
    "    credit_metrics_df[\"Interest_Expense\"] = compustat_data[\"XINT\"]\n",
    "    credit_metrics_df[\"Cash_Short_Term_Investments\"] = compustat_data[\"CHE\"]\n",
    "    credit_metrics_df[\"Net_Income\"] = compustat_data[\"NI\"]\n",
    "    credit_metrics_df[\"Inventory\"] = compustat_data[\"INVT\"]\n",
    "    credit_metrics_df[\"Total_Equity\"] = compustat_data[\"CEQ\"]\n",
    "\n",
    "    # Calculate financial ratios\n",
    "    credit_metrics_df[\"Debt_Equity_Ratio\"] = credit_metrics_df[\"Total_Liabilities\"] / credit_metrics_df[\"Total_Equity\"]\n",
    "    credit_metrics_df[\"Debt_Ratio\"] = credit_metrics_df[\"Total_Liabilities\"] / credit_metrics_df[\"Total_Assets\"]\n",
    "    credit_metrics_df[\"Current_Ratio\"] = credit_metrics_df[\"Current_Liabilities\"] / credit_metrics_df[\"Total_Assets\"]\n",
    "    credit_metrics_df[\"Quick_Ratio\"] = (credit_metrics_df[\"Current_Liabilities\"] - credit_metrics_df[\"Inventory\"]) / credit_metrics_df[\"Total_Assets\"]\n",
    "    credit_metrics_df[\"Interest_Coverage_Ratio\"] = credit_metrics_df[\"Net_Income\"] / credit_metrics_df[\"Interest_Expense\"]\n",
    "    credit_metrics_df[\"Return_On_Assets\"] = credit_metrics_df[\"Net_Income\"] / credit_metrics_df[\"Total_Assets\"]\n",
    "    credit_metrics_df[\"Return_On_Equity\"] = credit_metrics_df[\"Net_Income\"] / credit_metrics_df[\"Total_Equity\"]\n",
    "    credit_metrics_df[\"Asset_Turnover_Ratio\"] = credit_metrics_df[\"Net_Income\"] / credit_metrics_df[\"Total_Assets\"]\n",
    "    credit_metrics_df[\"Inventory_Turnover_Ratio\"] = credit_metrics_df[\"Net_Income\"] / credit_metrics_df[\"Inventory\"]\n",
    "\n",
    "    return credit_metrics_df\n",
    "\n",
    "calculated_credit_metrics = calculate_credit_metrics(test)\n",
    "print(calculated_credit_metrics)\n"
   ]
  },
  {
   "cell_type": "code",
   "execution_count": 98,
   "metadata": {},
   "outputs": [
    {
     "name": "stdout",
     "output_type": "stream",
     "text": [
      "0         0.556781\n",
      "1         0.272252\n",
      "2         0.804507\n",
      "3         0.686285\n",
      "4         0.710612\n",
      "            ...   \n",
      "350176        -inf\n",
      "350177        -inf\n",
      "350178        -inf\n",
      "350179    5.029691\n",
      "350180        -inf\n",
      "Length: 350181, dtype: float64\n"
     ]
    },
    {
     "name": "stderr",
     "output_type": "stream",
     "text": [
      "C:\\Users\\kitty\\AppData\\Local\\Packages\\PythonSoftwareFoundation.Python.3.11_qbz5n2kfra8p0\\LocalCache\\local-packages\\Python311\\site-packages\\numpy\\core\\_methods.py:49: RuntimeWarning: invalid value encountered in reduce\n",
      "  return umr_sum(a, axis, dtype, out, keepdims, initial, where)\n"
     ]
    }
   ],
   "source": [
    "def calculate_credit_score(credit_metrics_df):\n",
    "    # Define weights for each financial metric\n",
    "    weights = {\n",
    "        \"Debt_Equity_Ratio\": 0.2,\n",
    "        \"Debt_Ratio\": 0.1,\n",
    "        \"Current_Ratio\": 0.1,\n",
    "        \"Quick_Ratio\": 0.1,\n",
    "        \"Interest_Coverage_Ratio\": 0.1,\n",
    "        \"Return_On_Assets\": 0.1,\n",
    "        \"Return_On_Equity\": 0.1,\n",
    "        \"Asset_Turnover_Ratio\": 0.1,\n",
    "        \"Inventory_Turnover_Ratio\": 0.1\n",
    "    }\n",
    "\n",
    "    # Normalize the metrics to ensure they are comparable\n",
    "    # normalized_metrics = credit_metrics_df.div(credit_metrics_df.max())\n",
    "\n",
    "    # Calculate the weighted sum of normalized metrics\n",
    "    credit_score = (credit_metrics_df * pd.Series(weights)).sum(axis=1)\n",
    "\n",
    "    return credit_score\n",
    "\n",
    "credit_score = calculate_credit_score(calculated_credit_metrics)\n",
    "print(credit_score)\n"
   ]
  },
  {
   "cell_type": "markdown",
   "metadata": {},
   "source": [
    "higher credit score indicates lower credit risk"
   ]
  },
  {
   "cell_type": "code",
   "execution_count": 99,
   "metadata": {},
   "outputs": [
    {
     "data": {
      "text/plain": [
       "0         0.556781\n",
       "1         0.272252\n",
       "2         0.804507\n",
       "3         0.686285\n",
       "4         0.710612\n",
       "            ...   \n",
       "350176        -inf\n",
       "350177        -inf\n",
       "350178        -inf\n",
       "350179    5.029691\n",
       "350180        -inf\n",
       "Name: Credit Rating, Length: 350181, dtype: float64"
      ]
     },
     "execution_count": 99,
     "metadata": {},
     "output_type": "execute_result"
    }
   ],
   "source": [
    "test[\"Credit Rating\"] = credit_score\n",
    "test[\"Credit Rating\"]"
   ]
  },
  {
   "cell_type": "code",
   "execution_count": 100,
   "metadata": {},
   "outputs": [
    {
     "name": "stdout",
     "output_type": "stream",
     "text": [
      "Index(['GVKEY', 'DATADATE', 'FYEAR', 'LPERMNO', 'SIC', 'AJEX', 'ACT', 'AT',\n",
      "       'CEQ', 'CHE', 'DCPSTK', 'DLC', 'DLTT', 'INVT', 'IVAO', 'LCO', 'LT',\n",
      "       'MIB', 'PSTK', 'NI', 'XINT', 'XSGA', 'UTFDOC', 'CSHO', 'CONSOL',\n",
      "       'INDFMT', 'DATAFMT', 'POPSRC', 'CURCD', 'COSTAT', 'dNoa',\n",
      "       'CSHO_t_minus_1_adjusted', 'CSHO_t_minus_2_adjusted', 'Nsi', 'Nsi_f',\n",
      "       'Nca', 'dNca', 'Fnl', 'dFnl', 'Credit Rating'],\n",
      "      dtype='object')\n"
     ]
    }
   ],
   "source": [
    "print(test.columns)"
   ]
  },
  {
   "cell_type": "code",
   "execution_count": 101,
   "metadata": {},
   "outputs": [
    {
     "data": {
      "text/html": [
       "<div>\n",
       "<style scoped>\n",
       "    .dataframe tbody tr th:only-of-type {\n",
       "        vertical-align: middle;\n",
       "    }\n",
       "\n",
       "    .dataframe tbody tr th {\n",
       "        vertical-align: top;\n",
       "    }\n",
       "\n",
       "    .dataframe thead th {\n",
       "        text-align: right;\n",
       "    }\n",
       "</style>\n",
       "<table border=\"1\" class=\"dataframe\">\n",
       "  <thead>\n",
       "    <tr style=\"text-align: right;\">\n",
       "      <th></th>\n",
       "      <th>GVKEY</th>\n",
       "      <th>DATADATE</th>\n",
       "      <th>FYEAR</th>\n",
       "      <th>LPERMNO</th>\n",
       "      <th>dNoa</th>\n",
       "      <th>Nsi</th>\n",
       "      <th>dNca</th>\n",
       "      <th>dFnl</th>\n",
       "      <th>Credit Rating</th>\n",
       "    </tr>\n",
       "  </thead>\n",
       "  <tbody>\n",
       "    <tr>\n",
       "      <th>0</th>\n",
       "      <td>001000</td>\n",
       "      <td>1970-12-31</td>\n",
       "      <td>1970.0</td>\n",
       "      <td>25881.0</td>\n",
       "      <td>0.000000</td>\n",
       "      <td>0.000000</td>\n",
       "      <td>0.000</td>\n",
       "      <td>0.000</td>\n",
       "      <td>0.556781</td>\n",
       "    </tr>\n",
       "    <tr>\n",
       "      <th>1</th>\n",
       "      <td>001000</td>\n",
       "      <td>1971-12-31</td>\n",
       "      <td>1971.0</td>\n",
       "      <td>25881.0</td>\n",
       "      <td>-0.095067</td>\n",
       "      <td>0.202490</td>\n",
       "      <td>-2.247</td>\n",
       "      <td>-0.120</td>\n",
       "      <td>0.272252</td>\n",
       "    </tr>\n",
       "    <tr>\n",
       "      <th>2</th>\n",
       "      <td>001000</td>\n",
       "      <td>1972-12-31</td>\n",
       "      <td>1972.0</td>\n",
       "      <td>25881.0</td>\n",
       "      <td>-0.238834</td>\n",
       "      <td>-0.031544</td>\n",
       "      <td>-0.933</td>\n",
       "      <td>-6.175</td>\n",
       "      <td>0.804507</td>\n",
       "    </tr>\n",
       "    <tr>\n",
       "      <th>3</th>\n",
       "      <td>001000</td>\n",
       "      <td>1973-12-31</td>\n",
       "      <td>1973.0</td>\n",
       "      <td>25881.0</td>\n",
       "      <td>0.111318</td>\n",
       "      <td>-0.021596</td>\n",
       "      <td>0.352</td>\n",
       "      <td>0.000</td>\n",
       "      <td>0.686285</td>\n",
       "    </tr>\n",
       "    <tr>\n",
       "      <th>4</th>\n",
       "      <td>001000</td>\n",
       "      <td>1974-12-31</td>\n",
       "      <td>1974.0</td>\n",
       "      <td>25881.0</td>\n",
       "      <td>0.101465</td>\n",
       "      <td>-0.278336</td>\n",
       "      <td>-1.874</td>\n",
       "      <td>0.914</td>\n",
       "      <td>0.710612</td>\n",
       "    </tr>\n",
       "    <tr>\n",
       "      <th>...</th>\n",
       "      <td>...</td>\n",
       "      <td>...</td>\n",
       "      <td>...</td>\n",
       "      <td>...</td>\n",
       "      <td>...</td>\n",
       "      <td>...</td>\n",
       "      <td>...</td>\n",
       "      <td>...</td>\n",
       "      <td>...</td>\n",
       "    </tr>\n",
       "    <tr>\n",
       "      <th>350176</th>\n",
       "      <td>347007</td>\n",
       "      <td>2021-12-31</td>\n",
       "      <td>2021.0</td>\n",
       "      <td>15533.0</td>\n",
       "      <td>0.320635</td>\n",
       "      <td>2.898017</td>\n",
       "      <td>92.563</td>\n",
       "      <td>620.664</td>\n",
       "      <td>-inf</td>\n",
       "    </tr>\n",
       "    <tr>\n",
       "      <th>350177</th>\n",
       "      <td>348892</td>\n",
       "      <td>2021-12-31</td>\n",
       "      <td>2021.0</td>\n",
       "      <td>20846.0</td>\n",
       "      <td>-0.144318</td>\n",
       "      <td>-5.756740</td>\n",
       "      <td>-117.376</td>\n",
       "      <td>-645.253</td>\n",
       "      <td>-inf</td>\n",
       "    </tr>\n",
       "    <tr>\n",
       "      <th>350178</th>\n",
       "      <td>349972</td>\n",
       "      <td>2021-12-31</td>\n",
       "      <td>2021.0</td>\n",
       "      <td>15642.0</td>\n",
       "      <td>-0.535396</td>\n",
       "      <td>1.882019</td>\n",
       "      <td>-16.997</td>\n",
       "      <td>-0.242</td>\n",
       "      <td>-inf</td>\n",
       "    </tr>\n",
       "    <tr>\n",
       "      <th>350179</th>\n",
       "      <td>350681</td>\n",
       "      <td>2021-12-31</td>\n",
       "      <td>2021.0</td>\n",
       "      <td>22205.0</td>\n",
       "      <td>21.020208</td>\n",
       "      <td>4.727489</td>\n",
       "      <td>352.392</td>\n",
       "      <td>630.928</td>\n",
       "      <td>5.029691</td>\n",
       "    </tr>\n",
       "    <tr>\n",
       "      <th>350180</th>\n",
       "      <td>351038</td>\n",
       "      <td>2021-12-31</td>\n",
       "      <td>2021.0</td>\n",
       "      <td>16161.0</td>\n",
       "      <td>-0.080853</td>\n",
       "      <td>-9.722744</td>\n",
       "      <td>-351.723</td>\n",
       "      <td>-631.097</td>\n",
       "      <td>-inf</td>\n",
       "    </tr>\n",
       "  </tbody>\n",
       "</table>\n",
       "<p>350181 rows × 9 columns</p>\n",
       "</div>"
      ],
      "text/plain": [
       "         GVKEY   DATADATE   FYEAR  LPERMNO       dNoa       Nsi     dNca  \\\n",
       "0       001000 1970-12-31  1970.0  25881.0   0.000000  0.000000    0.000   \n",
       "1       001000 1971-12-31  1971.0  25881.0  -0.095067  0.202490   -2.247   \n",
       "2       001000 1972-12-31  1972.0  25881.0  -0.238834 -0.031544   -0.933   \n",
       "3       001000 1973-12-31  1973.0  25881.0   0.111318 -0.021596    0.352   \n",
       "4       001000 1974-12-31  1974.0  25881.0   0.101465 -0.278336   -1.874   \n",
       "...        ...        ...     ...      ...        ...       ...      ...   \n",
       "350176  347007 2021-12-31  2021.0  15533.0   0.320635  2.898017   92.563   \n",
       "350177  348892 2021-12-31  2021.0  20846.0  -0.144318 -5.756740 -117.376   \n",
       "350178  349972 2021-12-31  2021.0  15642.0  -0.535396  1.882019  -16.997   \n",
       "350179  350681 2021-12-31  2021.0  22205.0  21.020208  4.727489  352.392   \n",
       "350180  351038 2021-12-31  2021.0  16161.0  -0.080853 -9.722744 -351.723   \n",
       "\n",
       "           dFnl  Credit Rating  \n",
       "0         0.000       0.556781  \n",
       "1        -0.120       0.272252  \n",
       "2        -6.175       0.804507  \n",
       "3         0.000       0.686285  \n",
       "4         0.914       0.710612  \n",
       "...         ...            ...  \n",
       "350176  620.664           -inf  \n",
       "350177 -645.253           -inf  \n",
       "350178   -0.242           -inf  \n",
       "350179  630.928       5.029691  \n",
       "350180 -631.097           -inf  \n",
       "\n",
       "[350181 rows x 9 columns]"
      ]
     },
     "execution_count": 101,
     "metadata": {},
     "output_type": "execute_result"
    }
   ],
   "source": [
    "selected = [\"GVKEY\", \"DATADATE\", \"FYEAR\", \"LPERMNO\", \"dNoa\", \"Nsi\", \"dNca\", \"dFnl\", \"Credit Rating\"]\n",
    "result = test[selected].copy()\n",
    "result"
   ]
  },
  {
   "cell_type": "code",
   "execution_count": null,
   "metadata": {},
   "outputs": [],
   "source": []
  }
 ],
 "metadata": {
  "kernelspec": {
   "display_name": "base",
   "language": "python",
   "name": "python3"
  },
  "language_info": {
   "codemirror_mode": {
    "name": "ipython",
    "version": 3
   },
   "file_extension": ".py",
   "mimetype": "text/x-python",
   "name": "python",
   "nbconvert_exporter": "python",
   "pygments_lexer": "ipython3",
   "version": "3.11.9"
  }
 },
 "nbformat": 4,
 "nbformat_minor": 2
}
