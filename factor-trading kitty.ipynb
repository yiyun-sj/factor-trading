{
 "cells": [
  {
   "cell_type": "code",
   "execution_count": 33,
   "metadata": {},
   "outputs": [],
   "source": [
    "import pandas as pd\n",
    "import numpy as np\n",
    "import seaborn as sns\n",
    "from pandasql import sqldf\n",
    "from sklearn import linear_model\n",
    "import statsmodels.api as sm\n",
    "from scipy import stats"
   ]
  },
  {
   "cell_type": "code",
   "execution_count": 34,
   "metadata": {},
   "outputs": [
    {
     "data": {
      "text/html": [
       "<div>\n",
       "<style scoped>\n",
       "    .dataframe tbody tr th:only-of-type {\n",
       "        vertical-align: middle;\n",
       "    }\n",
       "\n",
       "    .dataframe tbody tr th {\n",
       "        vertical-align: top;\n",
       "    }\n",
       "\n",
       "    .dataframe thead th {\n",
       "        text-align: right;\n",
       "    }\n",
       "</style>\n",
       "<table border=\"1\" class=\"dataframe\">\n",
       "  <thead>\n",
       "    <tr style=\"text-align: right;\">\n",
       "      <th></th>\n",
       "      <th>GVKEY</th>\n",
       "      <th>DATADATE</th>\n",
       "      <th>FYEAR</th>\n",
       "      <th>LPERMNO</th>\n",
       "      <th>SIC</th>\n",
       "      <th>AJEX</th>\n",
       "      <th>ACT</th>\n",
       "      <th>AT</th>\n",
       "      <th>CEQ</th>\n",
       "      <th>CHE</th>\n",
       "      <th>...</th>\n",
       "      <th>MIB</th>\n",
       "      <th>PSTK</th>\n",
       "      <th>XSGA</th>\n",
       "      <th>CSHO</th>\n",
       "      <th>CONSOL</th>\n",
       "      <th>INDFMT</th>\n",
       "      <th>DATAFMT</th>\n",
       "      <th>POPSRC</th>\n",
       "      <th>CURCD</th>\n",
       "      <th>COSTAT</th>\n",
       "    </tr>\n",
       "  </thead>\n",
       "  <tbody>\n",
       "    <tr>\n",
       "      <th>0</th>\n",
       "      <td>001001</td>\n",
       "      <td>1983-12-31</td>\n",
       "      <td>1983.0</td>\n",
       "      <td>10015.0</td>\n",
       "      <td>5812</td>\n",
       "      <td>1.000000</td>\n",
       "      <td>4.807</td>\n",
       "      <td>14.080</td>\n",
       "      <td>7.823</td>\n",
       "      <td>4.280</td>\n",
       "      <td>...</td>\n",
       "      <td>0.0</td>\n",
       "      <td>0.0</td>\n",
       "      <td>16.435</td>\n",
       "      <td>3.568</td>\n",
       "      <td>C</td>\n",
       "      <td>INDL</td>\n",
       "      <td>STD</td>\n",
       "      <td>D</td>\n",
       "      <td>USD</td>\n",
       "      <td>I</td>\n",
       "    </tr>\n",
       "    <tr>\n",
       "      <th>1</th>\n",
       "      <td>001001</td>\n",
       "      <td>1984-12-31</td>\n",
       "      <td>1984.0</td>\n",
       "      <td>10015.0</td>\n",
       "      <td>5812</td>\n",
       "      <td>1.000000</td>\n",
       "      <td>2.789</td>\n",
       "      <td>16.267</td>\n",
       "      <td>8.962</td>\n",
       "      <td>1.986</td>\n",
       "      <td>...</td>\n",
       "      <td>0.0</td>\n",
       "      <td>0.0</td>\n",
       "      <td>20.628</td>\n",
       "      <td>3.568</td>\n",
       "      <td>C</td>\n",
       "      <td>INDL</td>\n",
       "      <td>STD</td>\n",
       "      <td>D</td>\n",
       "      <td>USD</td>\n",
       "      <td>I</td>\n",
       "    </tr>\n",
       "    <tr>\n",
       "      <th>2</th>\n",
       "      <td>001001</td>\n",
       "      <td>1985-12-31</td>\n",
       "      <td>1985.0</td>\n",
       "      <td>10015.0</td>\n",
       "      <td>5812</td>\n",
       "      <td>1.000000</td>\n",
       "      <td>3.852</td>\n",
       "      <td>39.495</td>\n",
       "      <td>13.014</td>\n",
       "      <td>2.787</td>\n",
       "      <td>...</td>\n",
       "      <td>0.0</td>\n",
       "      <td>0.0</td>\n",
       "      <td>33.021</td>\n",
       "      <td>3.988</td>\n",
       "      <td>C</td>\n",
       "      <td>INDL</td>\n",
       "      <td>STD</td>\n",
       "      <td>D</td>\n",
       "      <td>USD</td>\n",
       "      <td>I</td>\n",
       "    </tr>\n",
       "    <tr>\n",
       "      <th>3</th>\n",
       "      <td>001003</td>\n",
       "      <td>1983-12-31</td>\n",
       "      <td>1983.0</td>\n",
       "      <td>10031.0</td>\n",
       "      <td>5712</td>\n",
       "      <td>1.000000</td>\n",
       "      <td>8.273</td>\n",
       "      <td>8.529</td>\n",
       "      <td>6.095</td>\n",
       "      <td>2.023</td>\n",
       "      <td>...</td>\n",
       "      <td>0.0</td>\n",
       "      <td>0.0</td>\n",
       "      <td>3.186</td>\n",
       "      <td>2.683</td>\n",
       "      <td>C</td>\n",
       "      <td>INDL</td>\n",
       "      <td>STD</td>\n",
       "      <td>D</td>\n",
       "      <td>USD</td>\n",
       "      <td>I</td>\n",
       "    </tr>\n",
       "    <tr>\n",
       "      <th>4</th>\n",
       "      <td>001003</td>\n",
       "      <td>1984-12-31</td>\n",
       "      <td>1984.0</td>\n",
       "      <td>10031.0</td>\n",
       "      <td>5712</td>\n",
       "      <td>1.000000</td>\n",
       "      <td>7.817</td>\n",
       "      <td>8.241</td>\n",
       "      <td>6.482</td>\n",
       "      <td>0.844</td>\n",
       "      <td>...</td>\n",
       "      <td>0.0</td>\n",
       "      <td>0.0</td>\n",
       "      <td>4.014</td>\n",
       "      <td>2.683</td>\n",
       "      <td>C</td>\n",
       "      <td>INDL</td>\n",
       "      <td>STD</td>\n",
       "      <td>D</td>\n",
       "      <td>USD</td>\n",
       "      <td>I</td>\n",
       "    </tr>\n",
       "    <tr>\n",
       "      <th>...</th>\n",
       "      <td>...</td>\n",
       "      <td>...</td>\n",
       "      <td>...</td>\n",
       "      <td>...</td>\n",
       "      <td>...</td>\n",
       "      <td>...</td>\n",
       "      <td>...</td>\n",
       "      <td>...</td>\n",
       "      <td>...</td>\n",
       "      <td>...</td>\n",
       "      <td>...</td>\n",
       "      <td>...</td>\n",
       "      <td>...</td>\n",
       "      <td>...</td>\n",
       "      <td>...</td>\n",
       "      <td>...</td>\n",
       "      <td>...</td>\n",
       "      <td>...</td>\n",
       "      <td>...</td>\n",
       "      <td>...</td>\n",
       "      <td>...</td>\n",
       "    </tr>\n",
       "    <tr>\n",
       "      <th>285868</th>\n",
       "      <td>345920</td>\n",
       "      <td>2021-12-31</td>\n",
       "      <td>2021.0</td>\n",
       "      <td>20194.0</td>\n",
       "      <td>3524</td>\n",
       "      <td>1.000000</td>\n",
       "      <td>269.384</td>\n",
       "      <td>891.242</td>\n",
       "      <td>635.180</td>\n",
       "      <td>28.384</td>\n",
       "      <td>...</td>\n",
       "      <td>0.0</td>\n",
       "      <td>0.0</td>\n",
       "      <td>67.945</td>\n",
       "      <td>44.618</td>\n",
       "      <td>C</td>\n",
       "      <td>INDL</td>\n",
       "      <td>STD</td>\n",
       "      <td>D</td>\n",
       "      <td>USD</td>\n",
       "      <td>A</td>\n",
       "    </tr>\n",
       "    <tr>\n",
       "      <th>285869</th>\n",
       "      <td>345980</td>\n",
       "      <td>2020-12-31</td>\n",
       "      <td>2020.0</td>\n",
       "      <td>20333.0</td>\n",
       "      <td>5961</td>\n",
       "      <td>0.033333</td>\n",
       "      <td>2314.000</td>\n",
       "      <td>2397.000</td>\n",
       "      <td>1027.000</td>\n",
       "      <td>2129.000</td>\n",
       "      <td>...</td>\n",
       "      <td>0.0</td>\n",
       "      <td>0.0</td>\n",
       "      <td>2225.000</td>\n",
       "      <td>587.000</td>\n",
       "      <td>C</td>\n",
       "      <td>INDL</td>\n",
       "      <td>STD</td>\n",
       "      <td>D</td>\n",
       "      <td>USD</td>\n",
       "      <td>A</td>\n",
       "    </tr>\n",
       "    <tr>\n",
       "      <th>285870</th>\n",
       "      <td>345980</td>\n",
       "      <td>2021-12-31</td>\n",
       "      <td>2021.0</td>\n",
       "      <td>20333.0</td>\n",
       "      <td>5961</td>\n",
       "      <td>0.033333</td>\n",
       "      <td>1224.000</td>\n",
       "      <td>1283.000</td>\n",
       "      <td>818.000</td>\n",
       "      <td>1168.000</td>\n",
       "      <td>...</td>\n",
       "      <td>0.0</td>\n",
       "      <td>0.0</td>\n",
       "      <td>1469.000</td>\n",
       "      <td>658.000</td>\n",
       "      <td>C</td>\n",
       "      <td>INDL</td>\n",
       "      <td>STD</td>\n",
       "      <td>D</td>\n",
       "      <td>USD</td>\n",
       "      <td>A</td>\n",
       "    </tr>\n",
       "    <tr>\n",
       "      <th>285871</th>\n",
       "      <td>347007</td>\n",
       "      <td>2021-12-31</td>\n",
       "      <td>2021.0</td>\n",
       "      <td>15533.0</td>\n",
       "      <td>2836</td>\n",
       "      <td>1.000000</td>\n",
       "      <td>334.347</td>\n",
       "      <td>468.910</td>\n",
       "      <td>-242.173</td>\n",
       "      <td>317.116</td>\n",
       "      <td>...</td>\n",
       "      <td>0.0</td>\n",
       "      <td>0.0</td>\n",
       "      <td>NaN</td>\n",
       "      <td>397.830</td>\n",
       "      <td>C</td>\n",
       "      <td>INDL</td>\n",
       "      <td>STD</td>\n",
       "      <td>D</td>\n",
       "      <td>USD</td>\n",
       "      <td>A</td>\n",
       "    </tr>\n",
       "    <tr>\n",
       "      <th>285872</th>\n",
       "      <td>349972</td>\n",
       "      <td>2021-12-31</td>\n",
       "      <td>2021.0</td>\n",
       "      <td>15642.0</td>\n",
       "      <td>2836</td>\n",
       "      <td>1.000000</td>\n",
       "      <td>40.387</td>\n",
       "      <td>40.577</td>\n",
       "      <td>35.900</td>\n",
       "      <td>39.132</td>\n",
       "      <td>...</td>\n",
       "      <td>0.0</td>\n",
       "      <td>0.0</td>\n",
       "      <td>7.728</td>\n",
       "      <td>8.259</td>\n",
       "      <td>C</td>\n",
       "      <td>INDL</td>\n",
       "      <td>STD</td>\n",
       "      <td>D</td>\n",
       "      <td>USD</td>\n",
       "      <td>A</td>\n",
       "    </tr>\n",
       "  </tbody>\n",
       "</table>\n",
       "<p>285873 rows × 24 columns</p>\n",
       "</div>"
      ],
      "text/plain": [
       "         GVKEY   DATADATE   FYEAR  LPERMNO   SIC      AJEX       ACT  \\\n",
       "0       001001 1983-12-31  1983.0  10015.0  5812  1.000000     4.807   \n",
       "1       001001 1984-12-31  1984.0  10015.0  5812  1.000000     2.789   \n",
       "2       001001 1985-12-31  1985.0  10015.0  5812  1.000000     3.852   \n",
       "3       001003 1983-12-31  1983.0  10031.0  5712  1.000000     8.273   \n",
       "4       001003 1984-12-31  1984.0  10031.0  5712  1.000000     7.817   \n",
       "...        ...        ...     ...      ...   ...       ...       ...   \n",
       "285868  345920 2021-12-31  2021.0  20194.0  3524  1.000000   269.384   \n",
       "285869  345980 2020-12-31  2020.0  20333.0  5961  0.033333  2314.000   \n",
       "285870  345980 2021-12-31  2021.0  20333.0  5961  0.033333  1224.000   \n",
       "285871  347007 2021-12-31  2021.0  15533.0  2836  1.000000   334.347   \n",
       "285872  349972 2021-12-31  2021.0  15642.0  2836  1.000000    40.387   \n",
       "\n",
       "              AT       CEQ       CHE  ...  MIB  PSTK      XSGA     CSHO  \\\n",
       "0         14.080     7.823     4.280  ...  0.0   0.0    16.435    3.568   \n",
       "1         16.267     8.962     1.986  ...  0.0   0.0    20.628    3.568   \n",
       "2         39.495    13.014     2.787  ...  0.0   0.0    33.021    3.988   \n",
       "3          8.529     6.095     2.023  ...  0.0   0.0     3.186    2.683   \n",
       "4          8.241     6.482     0.844  ...  0.0   0.0     4.014    2.683   \n",
       "...          ...       ...       ...  ...  ...   ...       ...      ...   \n",
       "285868   891.242   635.180    28.384  ...  0.0   0.0    67.945   44.618   \n",
       "285869  2397.000  1027.000  2129.000  ...  0.0   0.0  2225.000  587.000   \n",
       "285870  1283.000   818.000  1168.000  ...  0.0   0.0  1469.000  658.000   \n",
       "285871   468.910  -242.173   317.116  ...  0.0   0.0       NaN  397.830   \n",
       "285872    40.577    35.900    39.132  ...  0.0   0.0     7.728    8.259   \n",
       "\n",
       "        CONSOL  INDFMT  DATAFMT  POPSRC CURCD COSTAT  \n",
       "0            C    INDL      STD       D   USD      I  \n",
       "1            C    INDL      STD       D   USD      I  \n",
       "2            C    INDL      STD       D   USD      I  \n",
       "3            C    INDL      STD       D   USD      I  \n",
       "4            C    INDL      STD       D   USD      I  \n",
       "...        ...     ...      ...     ...   ...    ...  \n",
       "285868       C    INDL      STD       D   USD      A  \n",
       "285869       C    INDL      STD       D   USD      A  \n",
       "285870       C    INDL      STD       D   USD      A  \n",
       "285871       C    INDL      STD       D   USD      A  \n",
       "285872       C    INDL      STD       D   USD      A  \n",
       "\n",
       "[285873 rows x 24 columns]"
      ]
     },
     "execution_count": 34,
     "metadata": {},
     "output_type": "execute_result"
    }
   ],
   "source": [
    "test = pd.read_sas('3v3.sas7bdat', encoding='latin-1')\n",
    "test"
   ]
  },
  {
   "cell_type": "markdown",
   "metadata": {},
   "source": [
    "### Noa and **dNoa**, (changes in) net operating assets\n",
    "We measure net operating assets as operating assets minus operating liabilities. Operating assets are total assets (Compustat annual item AT) minus cash and short-term investment (item CHE). Operating liabilities are total assets minus debt included in current liabilities (item DLC, zero if missing), minus long-term debt (item DLTT, zero if missing), minus minority interests (item MIB, zero if missing), minus preferred stocks (item PSTK, zero if missing), and minus common equity (item CEQ). Noa is net operating assets scalded by 1-year-lagged total assets. Changes in net operating assets, dNoa, is the annual change in net operating assets scaled by 1-year-lagged total assets. At the end of June of each year t, we sort stocks into deciles based on Noa, and separately, on dNOA, for the fiscal year ending in calendar year t −1. Monthly decile returns are computed from July of year t to June of t +1, and the deciles are rebalanced in June of t +1"
   ]
  },
  {
   "cell_type": "code",
   "execution_count": 35,
   "metadata": {},
   "outputs": [],
   "source": [
    "def fill_zero(var):\n",
    "    temp = test[var].isna().sum()\n",
    "    test[var].fillna(0, inplace=True)\n",
    "    print(\"NAN values for \" + str(var) + \": \" + str(temp))\n",
    "    temp = test[var].isna().sum()\n",
    "    print(\"NAN values for \" + str(var) + \" filled: \" + str(temp))"
   ]
  },
  {
   "cell_type": "code",
   "execution_count": 36,
   "metadata": {},
   "outputs": [
    {
     "name": "stdout",
     "output_type": "stream",
     "text": [
      "NAN values for DLC: 10465\n",
      "NAN values for DLC filled: 0\n",
      "NAN values for DLTT: 8844\n",
      "NAN values for DLTT filled: 0\n",
      "NAN values for MIB: 23237\n",
      "NAN values for MIB filled: 0\n",
      "NAN values for PSTK: 12034\n",
      "NAN values for PSTK filled: 0\n"
     ]
    }
   ],
   "source": [
    "fill_zero(\"DLC\")\n",
    "fill_zero(\"DLTT\")\n",
    "fill_zero(\"MIB\")\n",
    "fill_zero(\"PSTK\")"
   ]
  },
  {
   "cell_type": "code",
   "execution_count": 37,
   "metadata": {},
   "outputs": [
    {
     "data": {
      "text/plain": [
       "0         0.000000\n",
       "1         0.237713\n",
       "2         1.150612\n",
       "3        -0.638030\n",
       "4         0.154297\n",
       "            ...   \n",
       "285868    2.249312\n",
       "285869   -2.046996\n",
       "285870    0.302461\n",
       "285871    0.320635\n",
       "285872   -0.190736\n",
       "Name: dNoa, Length: 285873, dtype: float64"
      ]
     },
     "execution_count": 37,
     "metadata": {},
     "output_type": "execute_result"
    }
   ],
   "source": [
    "operating_assets = test[\"AT\"] - test[\"CHE\"]\n",
    "operating_liabilities = test[\"AT\"] - test[\"DLC\"] - test[\"DLTT\"] - test[\"MIB\"] - test[\"PSTK\"] - test[\"CEQ\"]\n",
    "\n",
    "Noa = operating_assets - operating_liabilities\n",
    "\n",
    "lagged_total_assets = test[\"AT\"].shift(1)  # 1-year-lagged total assets\n",
    "dNoa = (Noa - Noa.shift(1)) / lagged_total_assets\n",
    "\n",
    "test[\"dNoa\"] = dNoa\n",
    "test[\"dNoa\"].fillna(0, inplace=True)\n",
    "\n",
    "test[\"dNoa\"]"
   ]
  },
  {
   "cell_type": "code",
   "execution_count": 38,
   "metadata": {},
   "outputs": [
    {
     "name": "stderr",
     "output_type": "stream",
     "text": [
      "C:\\Users\\kitty\\AppData\\Local\\Packages\\PythonSoftwareFoundation.Python.3.11_qbz5n2kfra8p0\\LocalCache\\local-packages\\Python311\\site-packages\\numpy\\lib\\function_base.py:4655: RuntimeWarning: invalid value encountered in subtract\n",
      "  diff_b_a = subtract(b, a)\n"
     ]
    },
    {
     "data": {
      "text/plain": [
       "0.25000765204615716"
      ]
     },
     "execution_count": 38,
     "metadata": {},
     "output_type": "execute_result"
    }
   ],
   "source": [
    "deciles_dNoa = pd.qcut(test[\"dNoa\"], 10, labels=False, duplicates=\"drop\")\n",
    "nanvalues = deciles_dNoa.isna().sum()\n",
    "allvalues = deciles_dNoa.count()\n",
    "\n",
    "difference = nanvalues/allvalues\n",
    "difference"
   ]
  },
  {
   "cell_type": "code",
   "execution_count": 39,
   "metadata": {},
   "outputs": [],
   "source": [
    "# monthly_returns = pd.DataFrame()  # Assuming you have monthly returns data\n",
    "# monthly_returns[\"Date\"] = pd.date_range(start=\"2023-07-01\", periods=12, freq=\"M\")\n",
    "# monthly_returns[\"Decile_dNoa\"] = deciles_dNoa.values\n",
    "# monthly_returns[\"Monthly_Return\"] = 0.05"
   ]
  },
  {
   "cell_type": "code",
   "execution_count": 40,
   "metadata": {},
   "outputs": [],
   "source": [
    "# test[\"dNoa\"] = (test[\"AT\"] - test[\"CHE\"]) - (test[\"AT\"] - test[\"DLC\"] - test[\"DLTT\"] - test[\"MIB\"] - test[\"PSTK\"] - test[\"CEQ\"])\n",
    "# test[\"dNoa\"]"
   ]
  },
  {
   "cell_type": "code",
   "execution_count": 41,
   "metadata": {},
   "outputs": [],
   "source": [
    "# test['dNoa_decile'] = pd.qcut(test['dNoa'], 10, labels=False)\n",
    "# test['dNoa_decile']"
   ]
  },
  {
   "cell_type": "markdown",
   "metadata": {},
   "source": [
    "### **Nsi**, net stock issues\n",
    "At the end of June of year t, we measure net stock issues, Nsi, as the natural log of the ratio of the split-adjusted shares outstanding at the fiscal year ending in calendar year t −1 to the split-adjusted shares outstanding at the fiscal year ending in t −2. The split-adjusted shares outstanding is shares outstanding (Compustat annual item CSHO) times the adjustment factor (item AJEX). At the end of June of each year t, we sort stocks with negative Nsi into two portfolios (1 and 2), stocks with zero Nsi into 1 portfolio (3), and stocks with positive Nsi into seven portfolios (4 to 10). Monthly decile returns are from July of year t to June of t +1, and the deciles are rebalanced in June of t +1."
   ]
  },
  {
   "cell_type": "code",
   "execution_count": 42,
   "metadata": {},
   "outputs": [
    {
     "name": "stderr",
     "output_type": "stream",
     "text": [
      "C:\\Users\\kitty\\AppData\\Local\\Packages\\PythonSoftwareFoundation.Python.3.11_qbz5n2kfra8p0\\LocalCache\\local-packages\\Python311\\site-packages\\pandas\\core\\arraylike.py:396: RuntimeWarning: divide by zero encountered in log\n",
      "  result = getattr(ufunc, method)(*inputs, **kwargs)\n"
     ]
    },
    {
     "data": {
      "text/plain": [
       "0              NaN\n",
       "1         0.000000\n",
       "2         0.111285\n",
       "3        -0.396354\n",
       "4         0.000000\n",
       "            ...   \n",
       "285868    0.286592\n",
       "285869   -0.824310\n",
       "285870    0.114180\n",
       "285871    2.898017\n",
       "285872   -3.874721\n",
       "Name: Nsi, Length: 285873, dtype: float64"
      ]
     },
     "execution_count": 42,
     "metadata": {},
     "output_type": "execute_result"
    }
   ],
   "source": [
    "test[\"CSHO_t_minus_1_adjusted\"] = test[\"CSHO\"] * test[\"AJEX\"]\n",
    "\n",
    "test_shifted = test.shift(periods=1)\n",
    "test[\"CSHO_t_minus_2_adjusted\"] = test_shifted[\"CSHO\"] * test_shifted[\"AJEX\"]\n",
    "\n",
    "test[\"Nsi\"] = np.log(test[\"CSHO_t_minus_1_adjusted\"] / test[\"CSHO_t_minus_2_adjusted\"])\n",
    "test[\"Nsi\"]"
   ]
  },
  {
   "cell_type": "code",
   "execution_count": 49,
   "metadata": {},
   "outputs": [
    {
     "data": {
      "text/plain": [
       "0         10\n",
       "1          3\n",
       "2         10\n",
       "3          1\n",
       "4          3\n",
       "          ..\n",
       "285868    10\n",
       "285869     1\n",
       "285870    10\n",
       "285871    10\n",
       "285872     1\n",
       "Name: Nsi_f, Length: 285873, dtype: int32"
      ]
     },
     "execution_count": 49,
     "metadata": {},
     "output_type": "execute_result"
    }
   ],
   "source": [
    "test[\"Nsi_f\"] = np.where(test[\"Nsi\"] < 0, np.where(test[\"Nsi\"] < test[\"Nsi\"].quantile(0.5), 1, 2),\n",
    "                             np.where(test[\"Nsi\"] == 0, 3,\n",
    "                                      np.where(test[\"Nsi\"] <= test[\"Nsi\"].quantile(0.1), 4,\n",
    "                                               np.where(test[\"Nsi\"] <= test[\"Nsi\"].quantile(0.2), 5,\n",
    "                                                        np.where(test[\"Nsi\"] <= test[\"Nsi\"].quantile(0.3), 6,\n",
    "                                                                 np.where(test[\"Nsi\"] <= test[\"Nsi\"].quantile(0.4), 7,\n",
    "                                                                          np.where(test[\"Nsi\"] <= test[\"Nsi\"].quantile(0.5), 8,\n",
    "                                                                                   np.where(test[\"Nsi\"] <= test[\"Nsi\"].quantile(0.6), 9, 10))))))))\n",
    "test[\"Nsi_f\"]"
   ]
  },
  {
   "cell_type": "markdown",
   "metadata": {},
   "source": [
    "### dNco, **dNca**, and dNcl, changes in net noncurrent operating assets, in noncurrent operating assets, and in noncurrent operating liabilities.\n",
    "dNco is the change in net noncurrent operating assets. Net noncurrent operating assets are noncurrent operating assets (Nca) minus noncurrent operating liabilities (Ncl), with Nca = total assets (Compustat annual item AT) − current assets (item ACT) − long-term investments (item IVAO), and Ncl = total liabilities (item LT) − current liabilities (item LCT) − long-term debt (item DLTT). dNca is the change in noncurrent operating assets, and dNcl is the change in noncurrent operating liabilities. Missing changes in long-term investments and long-term debt are set to zero. At the end of June of each year t, we sort stocks into deciles based, on dNco, dNca, and dNcl for the fiscal year ending in calendar year t −1, all scaled by total assets for the fiscal year ending in calendar year t −2. Monthly decile returns are from July of year t to June of t +1, and the deciles are rebalanced in June of t +1.\n"
   ]
  },
  {
   "cell_type": "code",
   "execution_count": 43,
   "metadata": {},
   "outputs": [
    {
     "name": "stdout",
     "output_type": "stream",
     "text": [
      "NAN values for IVAO: 50623\n",
      "NAN values for IVAO filled: 0\n"
     ]
    }
   ],
   "source": [
    "fill_zero(\"IVAO\")"
   ]
  },
  {
   "cell_type": "code",
   "execution_count": 44,
   "metadata": {},
   "outputs": [
    {
     "data": {
      "text/plain": [
       "0           9.182\n",
       "1          13.400\n",
       "2          35.616\n",
       "3           0.256\n",
       "4           0.424\n",
       "           ...   \n",
       "285868    621.858\n",
       "285869     79.000\n",
       "285870     42.000\n",
       "285871    134.563\n",
       "285872      0.190\n",
       "Name: Nca, Length: 285873, dtype: float64"
      ]
     },
     "execution_count": 44,
     "metadata": {},
     "output_type": "execute_result"
    }
   ],
   "source": [
    "test[\"Nca\"] = test[\"AT\"] - test[\"ACT\"] - test[\"IVAO\"]\n",
    "test[\"Nca\"]"
   ]
  },
  {
   "cell_type": "code",
   "execution_count": 50,
   "metadata": {},
   "outputs": [
    {
     "data": {
      "text/plain": [
       "0           0.000\n",
       "1           4.218\n",
       "2          22.216\n",
       "3         -35.360\n",
       "4           0.168\n",
       "           ...   \n",
       "285868    545.980\n",
       "285869   -542.858\n",
       "285870    -37.000\n",
       "285871     92.563\n",
       "285872   -134.373\n",
       "Name: dNca, Length: 285873, dtype: float64"
      ]
     },
     "execution_count": 50,
     "metadata": {},
     "output_type": "execute_result"
    }
   ],
   "source": [
    "#Need to calculate dNca\n",
    "test[\"dNca\"] = test[\"Nca\"].diff()\n",
    "test[\"dNca\"].fillna(0, inplace=True)\n",
    "test[\"dNca\"]"
   ]
  },
  {
   "cell_type": "markdown",
   "metadata": {},
   "source": [
    "### dFin, dSti, dLti, **dFnl**, and dBe, changes in net financial assets, in short-term investments, in long-term investments, in financial liabilities, and in book equity. \n",
    "dFin is the change in net financial assets. Net financial assets are financial assets (Fna) minus financial liabilities (Fnl), with Fna = short-term investments (Compustat annual item IVST) + long-term investments (item IVAO), and Fnl = long-term debt (item DLTT) + debt in current liabilities (item DLC) + preferred stock (item PSTK). dSti is the change in short-term investments, dLti is the change in long-term investments, and dFnl is the change in financial liabilities. dBe is the change in book equity (item CEQ). Missing changes in debt in current liabilities, long-term investments, long-term debt, short-term investments, and preferred stocks are set to zero (at least 1 change must be non-missing). When constructing dSti (dLti), we exclude firms that do not have short-term (long-term) investments in the past two fiscal years. At the end of June of each year t, we sort stocks into deciles based, separately, on dFin, dSti, dLti, dFnl, and dBe for the fiscal year ending in calendar year t −1, all scaled by total assets (item AT) for the fiscal year ending in calendar year t −2. Monthly decile returns are calculated from July of year t to June of t +1, and the deciles are rebalanced in June of t +1. For sufficient data coverage, the dSti portfolios start in July 1971."
   ]
  },
  {
   "cell_type": "code",
   "execution_count": 46,
   "metadata": {},
   "outputs": [
    {
     "name": "stdout",
     "output_type": "stream",
     "text": [
      "NAN values for DLTT: 0\n",
      "NAN values for DLTT filled: 0\n",
      "NAN values for DLC: 0\n",
      "NAN values for DLC filled: 0\n",
      "NAN values for PSTK: 0\n",
      "NAN values for PSTK filled: 0\n"
     ]
    }
   ],
   "source": [
    "fill_zero(\"DLTT\")\n",
    "fill_zero(\"DLC\")\n",
    "fill_zero(\"PSTK\")"
   ]
  },
  {
   "cell_type": "code",
   "execution_count": 47,
   "metadata": {},
   "outputs": [
    {
     "data": {
      "text/plain": [
       "0           4.864\n",
       "1           4.778\n",
       "2          20.244\n",
       "3           1.200\n",
       "4           0.950\n",
       "           ...   \n",
       "285868    167.573\n",
       "285869     52.000\n",
       "285870     25.000\n",
       "285871    645.664\n",
       "285872      0.169\n",
       "Name: Fnl, Length: 285873, dtype: float64"
      ]
     },
     "execution_count": 47,
     "metadata": {},
     "output_type": "execute_result"
    }
   ],
   "source": [
    "test[\"Fnl\"] = test[\"DLTT\"] + test[\"DLC\"] + test[\"PSTK\"]\n",
    "test[\"Fnl\"]"
   ]
  },
  {
   "cell_type": "code",
   "execution_count": 52,
   "metadata": {},
   "outputs": [
    {
     "data": {
      "text/plain": [
       "0           0.000\n",
       "1          -0.086\n",
       "2          15.466\n",
       "3         -19.044\n",
       "4          -0.250\n",
       "           ...   \n",
       "285868    147.516\n",
       "285869   -115.573\n",
       "285870    -27.000\n",
       "285871    620.664\n",
       "285872   -645.495\n",
       "Name: dFnl, Length: 285873, dtype: float64"
      ]
     },
     "execution_count": 52,
     "metadata": {},
     "output_type": "execute_result"
    }
   ],
   "source": [
    "test[\"dFnl\"] = test[\"Fnl\"].diff()\n",
    "test[\"dFnl\"].fillna(0, inplace=True)\n",
    "test[\"dFnl\"]"
   ]
  },
  {
   "cell_type": "code",
   "execution_count": 48,
   "metadata": {},
   "outputs": [],
   "source": [
    "# dlc = test['DLC'].isna().sum()\n",
    "# test['DLC'].fillna(0, inplace=True)\n",
    "# print(\"NAN values: \" + str(dlc))\n",
    "# dlc = test['DLC'].isna().sum()\n",
    "# print(\"NAN values: \" + str(dlc))"
   ]
  }
 ],
 "metadata": {
  "kernelspec": {
   "display_name": "base",
   "language": "python",
   "name": "python3"
  },
  "language_info": {
   "codemirror_mode": {
    "name": "ipython",
    "version": 3
   },
   "file_extension": ".py",
   "mimetype": "text/x-python",
   "name": "python",
   "nbconvert_exporter": "python",
   "pygments_lexer": "ipython3",
   "version": "3.11.9"
  }
 },
 "nbformat": 4,
 "nbformat_minor": 2
}
